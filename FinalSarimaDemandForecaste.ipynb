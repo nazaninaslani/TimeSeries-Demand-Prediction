{
  "nbformat": 4,
  "nbformat_minor": 0,
  "metadata": {
    "colab": {
      "name": "FinalSarimaDemandForecaste.ipynb",
      "provenance": [],
      "collapsed_sections": [],
      "include_colab_link": true
    },
    "kernelspec": {
      "name": "python3",
      "display_name": "Python 3"
    }
  },
  "cells": [
    {
      "cell_type": "markdown",
      "metadata": {
        "id": "view-in-github",
        "colab_type": "text"
      },
      "source": [
        "<a href=\"https://colab.research.google.com/github/nazaninaslani/TimeSeries-Demand-Prediction/blob/main/FinalSarimaDemandForecaste.ipynb\" target=\"_parent\"><img src=\"https://colab.research.google.com/assets/colab-badge.svg\" alt=\"Open In Colab\"/></a>"
      ]
    },
    {
      "cell_type": "markdown",
      "metadata": {
        "id": "BWOFIi1rghbv"
      },
      "source": [
        "# Patient Demand Forecast in Family Health Team\n",
        "\n",
        "# Background\n",
        "\n",
        "## Project goal"
      ]
    },
    {
      "cell_type": "code",
      "metadata": {
        "id": "b2d5g5DTgjQN"
      },
      "source": [
        "!pip install pmdarima"
      ],
      "execution_count": null,
      "outputs": []
    },
    {
      "cell_type": "code",
      "metadata": {
        "id": "8L9z65BMgk2n"
      },
      "source": [
        "import pandas as pd\n",
        "import numpy as np\n",
        "from matplotlib import pyplot\n",
        "import matplotlib.pyplot as plt\n",
        "import itertools\n",
        "# Ignore harmless warnings\n",
        "import warnings\n",
        "warnings.filterwarnings(\"ignore\")\n",
        "plt.style.use('fivethirtyeight')\n",
        "import matplotlib\n",
        "matplotlib.rcParams['axes.labelsize'] = 14\n",
        "matplotlib.rcParams['xtick.labelsize'] = 12\n",
        "matplotlib.rcParams['ytick.labelsize'] = 12\n",
        "matplotlib.rcParams['text.color'] = 'G'\n",
        "import seaborn as sns\n",
        "from datetime import datetime, timedelta"
      ],
      "execution_count": 2,
      "outputs": []
    },
    {
      "cell_type": "code",
      "metadata": {
        "id": "5s7O6gp36Qv8"
      },
      "source": [
        "# Load specific statistical tool for outlier detection\n",
        "import statsmodels\n",
        "import statsmodels.api as sm\n",
        "from statsmodels.stats.stattools import medcouple\n",
        "import math\n",
        "\n",
        "# Load specific forecasting tools\n",
        "from statsmodels.tsa.arima_model import ARMA,ARMAResults,ARIMA,ARIMAResults\n",
        "from statsmodels.tsa.statespace.sarimax import SARIMAX\n",
        "\n",
        "from statsmodels.graphics.tsaplots import plot_acf,plot_pacf # for determining (p,q) orders\n",
        "from statsmodels.tsa.seasonal import seasonal_decompose      # for ETS Plots\n",
        "import pmdarima\n",
        "from pmdarima import auto_arima                              # for determining ARIMA orders\n",
        "#normalizing input & output features\n",
        "from sklearn.preprocessing import MinMaxScaler\n",
        "#tools for evaluating the forecasting model\n",
        "from statsmodels.tools.eval_measures import rmse\n",
        "from sklearn.metrics import mean_absolute_error\n",
        "from sklearn.metrics import mean_squared_error\n",
        "##\n",
        "from math import sqrt\n",
        "from multiprocessing import cpu_count\n",
        "from joblib import Parallel\n",
        "from joblib import delayed\n",
        "from warnings import catch_warnings\n",
        "from warnings import filterwarnings\n",
        "from statsmodels.tsa.statespace.sarimax import SARIMAX\n",
        "from sklearn.metrics import mean_squared_error"
      ],
      "execution_count": 53,
      "outputs": []
    },
    {
      "cell_type": "markdown",
      "metadata": {
        "id": "1Rr5PsZr6Zp2"
      },
      "source": [
        "#Datasets"
      ]
    },
    {
      "cell_type": "code",
      "metadata": {
        "id": "n2yYNSad6lY8",
        "colab": {
          "base_uri": "https://localhost:8080/"
        },
        "outputId": "cfc00659-a6da-4f93-8550-66e74d0638d4"
      },
      "source": [
        "Demand = pd.read_csv('DailyDemand.csv')\n",
        "print(Demand.head())\n",
        "len(Demand)"
      ],
      "execution_count": 5,
      "outputs": [
        {
          "output_type": "stream",
          "text": [
            "   Unnamed: 0  Provider Id  ... Appointment Type  Doctor Id\n",
            "0           0          128  ...       non-urgent         38\n",
            "1           1           94  ...       non-urgent         37\n",
            "2           3          114  ...       non-urgent         16\n",
            "3           4           25  ...           urgent         21\n",
            "4           5          144  ...           urgent         26\n",
            "\n",
            "[5 rows x 6 columns]\n"
          ],
          "name": "stdout"
        },
        {
          "output_type": "execute_result",
          "data": {
            "text/plain": [
              "40754"
            ]
          },
          "metadata": {
            "tags": []
          },
          "execution_count": 5
        }
      ]
    },
    {
      "cell_type": "markdown",
      "metadata": {
        "id": "OhSzqNB76_Os"
      },
      "source": [
        "# Pipline for handling missing values & cleaning dataset"
      ]
    },
    {
      "cell_type": "code",
      "metadata": {
        "id": "O1W8h1rrZj9B"
      },
      "source": [
        "def clean_data (df_in,col_1,col_2,val_2,col_3,val_3,col_4,val_4):\r\n",
        "  #Removing the missing values\r\n",
        "  df_in.dropna(subset=[col_1], inplace = True)\r\n",
        "  #Removing records with negative access time\r\n",
        "  df_in = df_in[df_in[col_1]>=0]\r\n",
        "  #\r\n",
        "  df_in = df_in[df_in[col_3] == val_3]\r\n",
        "  #Specific app type\r\n",
        "  df_in = df_in[df_in[col_2] == val_2]\r\n",
        "  #Handling the categorial variable\r\n",
        "  df_in[col_2] = np.where(df_in[col_2]== val_2,1,0)\r\n",
        "  df_in['CareContinuity'] = np.where((df_in[col_4]==val_4),1,0 )\r\n",
        "  return df_in"
      ],
      "execution_count": 6,
      "outputs": []
    },
    {
      "cell_type": "code",
      "metadata": {
        "id": "ydAKeGzGfUIT"
      },
      "source": [
        "Demand = clean_data(Demand,'Wait Interval','Appointment Type','urgent','Doctor Id',32,'Provider Id',96)"
      ],
      "execution_count": 7,
      "outputs": []
    },
    {
      "cell_type": "code",
      "metadata": {
        "colab": {
          "base_uri": "https://localhost:8080/",
          "height": 402
        },
        "id": "_JA-kfOgAJks",
        "outputId": "288d180a-1171-4977-8ed2-db46c24be15f"
      },
      "source": [
        "Demand"
      ],
      "execution_count": 8,
      "outputs": [
        {
          "output_type": "execute_result",
          "data": {
            "text/html": [
              "<div>\n",
              "<style scoped>\n",
              "    .dataframe tbody tr th:only-of-type {\n",
              "        vertical-align: middle;\n",
              "    }\n",
              "\n",
              "    .dataframe tbody tr th {\n",
              "        vertical-align: top;\n",
              "    }\n",
              "\n",
              "    .dataframe thead th {\n",
              "        text-align: right;\n",
              "    }\n",
              "</style>\n",
              "<table border=\"1\" class=\"dataframe\">\n",
              "  <thead>\n",
              "    <tr style=\"text-align: right;\">\n",
              "      <th></th>\n",
              "      <th>Unnamed: 0</th>\n",
              "      <th>Provider Id</th>\n",
              "      <th>Booking Date</th>\n",
              "      <th>Wait Interval</th>\n",
              "      <th>Appointment Type</th>\n",
              "      <th>Doctor Id</th>\n",
              "      <th>CareContinuity</th>\n",
              "    </tr>\n",
              "  </thead>\n",
              "  <tbody>\n",
              "    <tr>\n",
              "      <th>92</th>\n",
              "      <td>130</td>\n",
              "      <td>96</td>\n",
              "      <td>30-Aug-17</td>\n",
              "      <td>1.0</td>\n",
              "      <td>1</td>\n",
              "      <td>32</td>\n",
              "      <td>1</td>\n",
              "    </tr>\n",
              "    <tr>\n",
              "      <th>104</th>\n",
              "      <td>149</td>\n",
              "      <td>96</td>\n",
              "      <td>31-Aug-17</td>\n",
              "      <td>0.0</td>\n",
              "      <td>1</td>\n",
              "      <td>32</td>\n",
              "      <td>1</td>\n",
              "    </tr>\n",
              "    <tr>\n",
              "      <th>112</th>\n",
              "      <td>158</td>\n",
              "      <td>96</td>\n",
              "      <td>29-Aug-17</td>\n",
              "      <td>2.0</td>\n",
              "      <td>1</td>\n",
              "      <td>32</td>\n",
              "      <td>1</td>\n",
              "    </tr>\n",
              "    <tr>\n",
              "      <th>123</th>\n",
              "      <td>172</td>\n",
              "      <td>96</td>\n",
              "      <td>29-Aug-17</td>\n",
              "      <td>2.0</td>\n",
              "      <td>1</td>\n",
              "      <td>32</td>\n",
              "      <td>1</td>\n",
              "    </tr>\n",
              "    <tr>\n",
              "      <th>225</th>\n",
              "      <td>371</td>\n",
              "      <td>95</td>\n",
              "      <td>24-Aug-17</td>\n",
              "      <td>11.0</td>\n",
              "      <td>1</td>\n",
              "      <td>32</td>\n",
              "      <td>0</td>\n",
              "    </tr>\n",
              "    <tr>\n",
              "      <th>...</th>\n",
              "      <td>...</td>\n",
              "      <td>...</td>\n",
              "      <td>...</td>\n",
              "      <td>...</td>\n",
              "      <td>...</td>\n",
              "      <td>...</td>\n",
              "      <td>...</td>\n",
              "    </tr>\n",
              "    <tr>\n",
              "      <th>40676</th>\n",
              "      <td>60566</td>\n",
              "      <td>96</td>\n",
              "      <td>24-Aug-18</td>\n",
              "      <td>6.0</td>\n",
              "      <td>1</td>\n",
              "      <td>32</td>\n",
              "      <td>1</td>\n",
              "    </tr>\n",
              "    <tr>\n",
              "      <th>40679</th>\n",
              "      <td>60570</td>\n",
              "      <td>95</td>\n",
              "      <td>31-Aug-18</td>\n",
              "      <td>0.0</td>\n",
              "      <td>1</td>\n",
              "      <td>32</td>\n",
              "      <td>0</td>\n",
              "    </tr>\n",
              "    <tr>\n",
              "      <th>40681</th>\n",
              "      <td>60574</td>\n",
              "      <td>96</td>\n",
              "      <td>29-Aug-18</td>\n",
              "      <td>1.0</td>\n",
              "      <td>1</td>\n",
              "      <td>32</td>\n",
              "      <td>1</td>\n",
              "    </tr>\n",
              "    <tr>\n",
              "      <th>40688</th>\n",
              "      <td>60583</td>\n",
              "      <td>95</td>\n",
              "      <td>31-Aug-18</td>\n",
              "      <td>0.0</td>\n",
              "      <td>1</td>\n",
              "      <td>32</td>\n",
              "      <td>0</td>\n",
              "    </tr>\n",
              "    <tr>\n",
              "      <th>40742</th>\n",
              "      <td>60660</td>\n",
              "      <td>148</td>\n",
              "      <td>27-Aug-18</td>\n",
              "      <td>3.0</td>\n",
              "      <td>1</td>\n",
              "      <td>32</td>\n",
              "      <td>0</td>\n",
              "    </tr>\n",
              "  </tbody>\n",
              "</table>\n",
              "<p>1571 rows × 7 columns</p>\n",
              "</div>"
            ],
            "text/plain": [
              "       Unnamed: 0  Provider Id  ... Doctor Id  CareContinuity\n",
              "92            130           96  ...        32               1\n",
              "104           149           96  ...        32               1\n",
              "112           158           96  ...        32               1\n",
              "123           172           96  ...        32               1\n",
              "225           371           95  ...        32               0\n",
              "...           ...          ...  ...       ...             ...\n",
              "40676       60566           96  ...        32               1\n",
              "40679       60570           95  ...        32               0\n",
              "40681       60574           96  ...        32               1\n",
              "40688       60583           95  ...        32               0\n",
              "40742       60660          148  ...        32               0\n",
              "\n",
              "[1571 rows x 7 columns]"
            ]
          },
          "metadata": {
            "tags": []
          },
          "execution_count": 8
        }
      ]
    },
    {
      "cell_type": "markdown",
      "metadata": {
        "id": "9rcL4K7H7vJ1"
      },
      "source": [
        "#Pipline for handling the outliers"
      ]
    },
    {
      "cell_type": "code",
      "metadata": {
        "id": "Li8NYAPViXS-"
      },
      "source": [
        "def Outlier_handle(df_in, col_name):\r\n",
        "  \r\n",
        "  #Calculating Medcouple for adjusted boxplot\r\n",
        "  \r\n",
        "  MC = medcouple(df_in[col_name])\r\n",
        "  \r\n",
        "  #Calculating IQR\r\n",
        "  Q1 = df_in[col_name].quantile(0.25)\r\n",
        "  Q3 = df_in[col_name].quantile(0.75)\r\n",
        "  IQR = Q3 - Q1\r\n",
        "  \r\n",
        "  #print(IQR)\r\n",
        "  \r\n",
        "  #Removing outliers through defining adjusted boxplot based on medcouple function for skewed distribution\r\n",
        "  \r\n",
        "  q1 = df_in[col_name].quantile(0.25)\r\n",
        "  q3 = df_in[col_name].quantile(0.75)\r\n",
        "  IQR = q3-q1 #Interquartile range\r\n",
        "  fence_low  = q1-1.5*math.exp(-3.5*MC)*IQR\r\n",
        "  fence_high = q3+1.5*math.exp(-3.5*MC)*IQR\r\n",
        "  df_out = df_in.loc[(df_in[col_name] > fence_low) & (df_in[col_name] < fence_high)]\r\n",
        "  \r\n",
        "  return df_out"
      ],
      "execution_count": 9,
      "outputs": []
    },
    {
      "cell_type": "code",
      "metadata": {
        "id": "ndsdZyk-jxTe"
      },
      "source": [
        "Demand = Outlier_handle(Demand,'Wait Interval')"
      ],
      "execution_count": 10,
      "outputs": []
    },
    {
      "cell_type": "code",
      "metadata": {
        "colab": {
          "base_uri": "https://localhost:8080/",
          "height": 402
        },
        "id": "G9Laqc0Sj5_E",
        "outputId": "6c36e2e7-7154-4250-d858-092b248f5006"
      },
      "source": [
        "Demand"
      ],
      "execution_count": null,
      "outputs": [
        {
          "output_type": "execute_result",
          "data": {
            "text/html": [
              "<div>\n",
              "<style scoped>\n",
              "    .dataframe tbody tr th:only-of-type {\n",
              "        vertical-align: middle;\n",
              "    }\n",
              "\n",
              "    .dataframe tbody tr th {\n",
              "        vertical-align: top;\n",
              "    }\n",
              "\n",
              "    .dataframe thead th {\n",
              "        text-align: right;\n",
              "    }\n",
              "</style>\n",
              "<table border=\"1\" class=\"dataframe\">\n",
              "  <thead>\n",
              "    <tr style=\"text-align: right;\">\n",
              "      <th></th>\n",
              "      <th>Unnamed: 0</th>\n",
              "      <th>Provider Id</th>\n",
              "      <th>Booking Date</th>\n",
              "      <th>Wait Interval</th>\n",
              "      <th>Appointment Type</th>\n",
              "      <th>Doctor Id</th>\n",
              "      <th>CareContinuity</th>\n",
              "    </tr>\n",
              "  </thead>\n",
              "  <tbody>\n",
              "    <tr>\n",
              "      <th>92</th>\n",
              "      <td>130</td>\n",
              "      <td>96</td>\n",
              "      <td>30-Aug-17</td>\n",
              "      <td>1.0</td>\n",
              "      <td>1</td>\n",
              "      <td>32</td>\n",
              "      <td>1</td>\n",
              "    </tr>\n",
              "    <tr>\n",
              "      <th>104</th>\n",
              "      <td>149</td>\n",
              "      <td>96</td>\n",
              "      <td>31-Aug-17</td>\n",
              "      <td>0.0</td>\n",
              "      <td>1</td>\n",
              "      <td>32</td>\n",
              "      <td>1</td>\n",
              "    </tr>\n",
              "    <tr>\n",
              "      <th>112</th>\n",
              "      <td>158</td>\n",
              "      <td>96</td>\n",
              "      <td>29-Aug-17</td>\n",
              "      <td>2.0</td>\n",
              "      <td>1</td>\n",
              "      <td>32</td>\n",
              "      <td>1</td>\n",
              "    </tr>\n",
              "    <tr>\n",
              "      <th>123</th>\n",
              "      <td>172</td>\n",
              "      <td>96</td>\n",
              "      <td>29-Aug-17</td>\n",
              "      <td>2.0</td>\n",
              "      <td>1</td>\n",
              "      <td>32</td>\n",
              "      <td>1</td>\n",
              "    </tr>\n",
              "    <tr>\n",
              "      <th>225</th>\n",
              "      <td>371</td>\n",
              "      <td>95</td>\n",
              "      <td>24-Aug-17</td>\n",
              "      <td>11.0</td>\n",
              "      <td>1</td>\n",
              "      <td>32</td>\n",
              "      <td>0</td>\n",
              "    </tr>\n",
              "    <tr>\n",
              "      <th>...</th>\n",
              "      <td>...</td>\n",
              "      <td>...</td>\n",
              "      <td>...</td>\n",
              "      <td>...</td>\n",
              "      <td>...</td>\n",
              "      <td>...</td>\n",
              "      <td>...</td>\n",
              "    </tr>\n",
              "    <tr>\n",
              "      <th>40676</th>\n",
              "      <td>60566</td>\n",
              "      <td>96</td>\n",
              "      <td>24-Aug-18</td>\n",
              "      <td>6.0</td>\n",
              "      <td>1</td>\n",
              "      <td>32</td>\n",
              "      <td>1</td>\n",
              "    </tr>\n",
              "    <tr>\n",
              "      <th>40679</th>\n",
              "      <td>60570</td>\n",
              "      <td>95</td>\n",
              "      <td>31-Aug-18</td>\n",
              "      <td>0.0</td>\n",
              "      <td>1</td>\n",
              "      <td>32</td>\n",
              "      <td>0</td>\n",
              "    </tr>\n",
              "    <tr>\n",
              "      <th>40681</th>\n",
              "      <td>60574</td>\n",
              "      <td>96</td>\n",
              "      <td>29-Aug-18</td>\n",
              "      <td>1.0</td>\n",
              "      <td>1</td>\n",
              "      <td>32</td>\n",
              "      <td>1</td>\n",
              "    </tr>\n",
              "    <tr>\n",
              "      <th>40688</th>\n",
              "      <td>60583</td>\n",
              "      <td>95</td>\n",
              "      <td>31-Aug-18</td>\n",
              "      <td>0.0</td>\n",
              "      <td>1</td>\n",
              "      <td>32</td>\n",
              "      <td>0</td>\n",
              "    </tr>\n",
              "    <tr>\n",
              "      <th>40742</th>\n",
              "      <td>60660</td>\n",
              "      <td>148</td>\n",
              "      <td>27-Aug-18</td>\n",
              "      <td>3.0</td>\n",
              "      <td>1</td>\n",
              "      <td>32</td>\n",
              "      <td>0</td>\n",
              "    </tr>\n",
              "  </tbody>\n",
              "</table>\n",
              "<p>1239 rows × 7 columns</p>\n",
              "</div>"
            ],
            "text/plain": [
              "       Unnamed: 0  Provider Id  ... Doctor Id  CareContinuity\n",
              "92            130           96  ...        32               1\n",
              "104           149           96  ...        32               1\n",
              "112           158           96  ...        32               1\n",
              "123           172           96  ...        32               1\n",
              "225           371           95  ...        32               0\n",
              "...           ...          ...  ...       ...             ...\n",
              "40676       60566           96  ...        32               1\n",
              "40679       60570           95  ...        32               0\n",
              "40681       60574           96  ...        32               1\n",
              "40688       60583           95  ...        32               0\n",
              "40742       60660          148  ...        32               0\n",
              "\n",
              "[1239 rows x 7 columns]"
            ]
          },
          "metadata": {
            "tags": []
          },
          "execution_count": 30
        }
      ]
    },
    {
      "cell_type": "markdown",
      "metadata": {
        "id": "ni814-qBl2QK"
      },
      "source": [
        "# Pipline for preprocessing the timeSeries data & creating new features \r\n"
      ]
    },
    {
      "cell_type": "code",
      "metadata": {
        "id": "k8JZ4BTH7eLZ"
      },
      "source": [
        "def preprocess_df (df_in,col_date,col_feature1,col_feature2):\n",
        "  \n",
        "  #df_in = df_in[['Booking Date', 'Appointment Type','Doctor Id']]\n",
        "  df_in = df_in.loc[:,[col_date,col_feature1,col_feature2]]\n",
        "  #Converting object into datetime for booking date\n",
        "  df_in[col_date] = pd.to_datetime(df_in[col_date])\n",
        "  #Sorting based on booking date\n",
        "  df_in = df_in.sort_values(by=col_date,ascending=True)\n",
        "  #Calculating total demand per day for a specific doctor\n",
        "  df_in = df_in.groupby(by=[col_date], as_index=False).aggregate(pd.np.sum)\n",
        "  #Changing the name of the feature column\n",
        "  df_in.rename(columns= {col_feature1:'Urgent Daily Demand'}, inplace= True)\n",
        "  df_in.set_index(col_date, inplace=True)\n",
        "  df_in = df_in.asfreq('D')\n",
        "  df_in.reset_index(inplace=True)\n",
        "  #adding a feature for continuity of care\n",
        "  #df_in['CareContinuity'] = np.where((df_in[col_feature1]==96),1,0 )\n",
        "  #adding a feature for days of a week\n",
        "  df_in['Weekday'] = df_in[col_date].dt.day_name()\n",
        "  #Since the original booking dates in the dataset is due to the existence of demand, after creating a daily based time series, daily demand for the booking dates which are not in the original dataset is Null value. So the Null values are replaced with zero replacing the null values with zero\n",
        "  df_in['Urgent Daily Demand'] = df_in['Urgent Daily Demand'].fillna(0)\n",
        "  df_in['CareContinuity'] = df_in['CareContinuity'].fillna(0)\n",
        "  #adding feature for each day of a week\n",
        "  df_in['Monday'] =  np.where(df_in['Weekday']=='Monday',1,0)\n",
        "  df_in['Tuesday'] = np.where(df_in['Weekday']=='Tuesday',1,0)\n",
        "  df_in['Wednesday'] = np.where(df_in['Weekday']=='Wednesday',1,0)\n",
        "  df_in['Thursday'] = np.where(df_in['Weekday']=='Thursday',1,0)\n",
        "  df_in['Friday'] = np.where(df_in['Weekday']=='Friday',1,0)\n",
        "  df_in.set_index('Booking Date', inplace=True)\n",
        "\n",
        "  return df_in"
      ],
      "execution_count": 11,
      "outputs": []
    },
    {
      "cell_type": "code",
      "metadata": {
        "id": "1bjj-k7EyQQW"
      },
      "source": [
        "Demand = preprocess_df(Demand,'Booking Date','Appointment Type','CareContinuity')"
      ],
      "execution_count": 12,
      "outputs": []
    },
    {
      "cell_type": "code",
      "metadata": {
        "colab": {
          "base_uri": "https://localhost:8080/",
          "height": 431
        },
        "id": "TEPGOBzLyQ1q",
        "outputId": "0533059b-883e-41ba-98ea-a6a45f8bf17f"
      },
      "source": [
        "Demand"
      ],
      "execution_count": 13,
      "outputs": [
        {
          "output_type": "execute_result",
          "data": {
            "text/html": [
              "<div>\n",
              "<style scoped>\n",
              "    .dataframe tbody tr th:only-of-type {\n",
              "        vertical-align: middle;\n",
              "    }\n",
              "\n",
              "    .dataframe tbody tr th {\n",
              "        vertical-align: top;\n",
              "    }\n",
              "\n",
              "    .dataframe thead th {\n",
              "        text-align: right;\n",
              "    }\n",
              "</style>\n",
              "<table border=\"1\" class=\"dataframe\">\n",
              "  <thead>\n",
              "    <tr style=\"text-align: right;\">\n",
              "      <th></th>\n",
              "      <th>Urgent Daily Demand</th>\n",
              "      <th>CareContinuity</th>\n",
              "      <th>Weekday</th>\n",
              "      <th>Monday</th>\n",
              "      <th>Tuesday</th>\n",
              "      <th>Wednesday</th>\n",
              "      <th>Thursday</th>\n",
              "      <th>Friday</th>\n",
              "    </tr>\n",
              "    <tr>\n",
              "      <th>Booking Date</th>\n",
              "      <th></th>\n",
              "      <th></th>\n",
              "      <th></th>\n",
              "      <th></th>\n",
              "      <th></th>\n",
              "      <th></th>\n",
              "      <th></th>\n",
              "      <th></th>\n",
              "    </tr>\n",
              "  </thead>\n",
              "  <tbody>\n",
              "    <tr>\n",
              "      <th>2017-08-24</th>\n",
              "      <td>1.0</td>\n",
              "      <td>0.0</td>\n",
              "      <td>Thursday</td>\n",
              "      <td>0</td>\n",
              "      <td>0</td>\n",
              "      <td>0</td>\n",
              "      <td>1</td>\n",
              "      <td>0</td>\n",
              "    </tr>\n",
              "    <tr>\n",
              "      <th>2017-08-25</th>\n",
              "      <td>0.0</td>\n",
              "      <td>0.0</td>\n",
              "      <td>Friday</td>\n",
              "      <td>0</td>\n",
              "      <td>0</td>\n",
              "      <td>0</td>\n",
              "      <td>0</td>\n",
              "      <td>1</td>\n",
              "    </tr>\n",
              "    <tr>\n",
              "      <th>2017-08-26</th>\n",
              "      <td>0.0</td>\n",
              "      <td>0.0</td>\n",
              "      <td>Saturday</td>\n",
              "      <td>0</td>\n",
              "      <td>0</td>\n",
              "      <td>0</td>\n",
              "      <td>0</td>\n",
              "      <td>0</td>\n",
              "    </tr>\n",
              "    <tr>\n",
              "      <th>2017-08-27</th>\n",
              "      <td>0.0</td>\n",
              "      <td>0.0</td>\n",
              "      <td>Sunday</td>\n",
              "      <td>0</td>\n",
              "      <td>0</td>\n",
              "      <td>0</td>\n",
              "      <td>0</td>\n",
              "      <td>0</td>\n",
              "    </tr>\n",
              "    <tr>\n",
              "      <th>2017-08-28</th>\n",
              "      <td>0.0</td>\n",
              "      <td>0.0</td>\n",
              "      <td>Monday</td>\n",
              "      <td>1</td>\n",
              "      <td>0</td>\n",
              "      <td>0</td>\n",
              "      <td>0</td>\n",
              "      <td>0</td>\n",
              "    </tr>\n",
              "    <tr>\n",
              "      <th>...</th>\n",
              "      <td>...</td>\n",
              "      <td>...</td>\n",
              "      <td>...</td>\n",
              "      <td>...</td>\n",
              "      <td>...</td>\n",
              "      <td>...</td>\n",
              "      <td>...</td>\n",
              "      <td>...</td>\n",
              "    </tr>\n",
              "    <tr>\n",
              "      <th>2018-08-27</th>\n",
              "      <td>6.0</td>\n",
              "      <td>1.0</td>\n",
              "      <td>Monday</td>\n",
              "      <td>1</td>\n",
              "      <td>0</td>\n",
              "      <td>0</td>\n",
              "      <td>0</td>\n",
              "      <td>0</td>\n",
              "    </tr>\n",
              "    <tr>\n",
              "      <th>2018-08-28</th>\n",
              "      <td>2.0</td>\n",
              "      <td>2.0</td>\n",
              "      <td>Tuesday</td>\n",
              "      <td>0</td>\n",
              "      <td>1</td>\n",
              "      <td>0</td>\n",
              "      <td>0</td>\n",
              "      <td>0</td>\n",
              "    </tr>\n",
              "    <tr>\n",
              "      <th>2018-08-29</th>\n",
              "      <td>4.0</td>\n",
              "      <td>2.0</td>\n",
              "      <td>Wednesday</td>\n",
              "      <td>0</td>\n",
              "      <td>0</td>\n",
              "      <td>1</td>\n",
              "      <td>0</td>\n",
              "      <td>0</td>\n",
              "    </tr>\n",
              "    <tr>\n",
              "      <th>2018-08-30</th>\n",
              "      <td>1.0</td>\n",
              "      <td>0.0</td>\n",
              "      <td>Thursday</td>\n",
              "      <td>0</td>\n",
              "      <td>0</td>\n",
              "      <td>0</td>\n",
              "      <td>1</td>\n",
              "      <td>0</td>\n",
              "    </tr>\n",
              "    <tr>\n",
              "      <th>2018-08-31</th>\n",
              "      <td>2.0</td>\n",
              "      <td>0.0</td>\n",
              "      <td>Friday</td>\n",
              "      <td>0</td>\n",
              "      <td>0</td>\n",
              "      <td>0</td>\n",
              "      <td>0</td>\n",
              "      <td>1</td>\n",
              "    </tr>\n",
              "  </tbody>\n",
              "</table>\n",
              "<p>373 rows × 8 columns</p>\n",
              "</div>"
            ],
            "text/plain": [
              "              Urgent Daily Demand  CareContinuity  ... Thursday  Friday\n",
              "Booking Date                                       ...                 \n",
              "2017-08-24                    1.0             0.0  ...        1       0\n",
              "2017-08-25                    0.0             0.0  ...        0       1\n",
              "2017-08-26                    0.0             0.0  ...        0       0\n",
              "2017-08-27                    0.0             0.0  ...        0       0\n",
              "2017-08-28                    0.0             0.0  ...        0       0\n",
              "...                           ...             ...  ...      ...     ...\n",
              "2018-08-27                    6.0             1.0  ...        0       0\n",
              "2018-08-28                    2.0             2.0  ...        0       0\n",
              "2018-08-29                    4.0             2.0  ...        0       0\n",
              "2018-08-30                    1.0             0.0  ...        1       0\n",
              "2018-08-31                    2.0             0.0  ...        0       1\n",
              "\n",
              "[373 rows x 8 columns]"
            ]
          },
          "metadata": {
            "tags": []
          },
          "execution_count": 13
        }
      ]
    },
    {
      "cell_type": "markdown",
      "metadata": {
        "id": "O38IK27NsXVv"
      },
      "source": [
        "#Plot the source data"
      ]
    },
    {
      "cell_type": "code",
      "metadata": {
        "colab": {
          "base_uri": "https://localhost:8080/",
          "height": 375
        },
        "id": "4jSOjXa4sF70",
        "outputId": "696ad41f-ace9-4a58-df36-4a3c3f7aa4c9"
      },
      "source": [
        "import matplotlib.ticker as ticker\r\n",
        "formatter = ticker.StrMethodFormatter('{x:,.0f}')\r\n",
        "\r\n",
        "title = 'Real Daily Demand for a specific Dr'\r\n",
        "ylabel='Daily Urgent Demand'\r\n",
        "xlabel='' # we don't really need a label here\r\n",
        "\r\n",
        "ax = Demand['Urgent Daily Demand'].plot(figsize=(12,5),title=title)\r\n",
        "ax.autoscale(axis='x',tight=True)\r\n",
        "ax.set(xlabel=xlabel, ylabel=ylabel)\r\n",
        "ax.yaxis.set_major_formatter(formatter);"
      ],
      "execution_count": 14,
      "outputs": [
        {
          "output_type": "display_data",
          "data": {
            "image/png": "[encoded data removed]",
            "text/plain": [
              "<Figure size 864x360 with 1 Axes>"
            ]
          },
          "metadata": {
            "tags": []
          }
        }
      ]
    },
    {
      "cell_type": "markdown",
      "metadata": {
        "id": "oUELiZihti5r"
      },
      "source": [
        "# Run an ETS Decomposition"
      ]
    },
    {
      "cell_type": "code",
      "metadata": {
        "colab": {
          "base_uri": "https://localhost:8080/",
          "height": 289
        },
        "id": "ROj6MHzAsFkn",
        "outputId": "7a62b75e-07d7-4750-b193-e5938c0cfc19"
      },
      "source": [
        "result = seasonal_decompose(Demand['Urgent Daily Demand'])\r\n",
        "result.plot();"
      ],
      "execution_count": 15,
      "outputs": [
        {
          "output_type": "display_data",
          "data": {
            "image/png": "[encoded data removed]",
            "text/plain": [
              "<Figure size 432x288 with 4 Axes>"
            ]
          },
          "metadata": {
            "tags": []
          }
        }
      ]
    },
    {
      "cell_type": "code",
      "metadata": {
        "colab": {
          "base_uri": "https://localhost:8080/",
          "height": 374
        },
        "id": "IudpP25Otu4Y",
        "outputId": "4eba0d88-21e6-4b39-a2ae-1fca7e4114da"
      },
      "source": [
        "#result.trend.plot(figsize=(18,5))\r\n",
        "result.seasonal.plot(figsize=(18,5))\r\n",
        "#result.resid.plot(figsize=(18,5));"
      ],
      "execution_count": 16,
      "outputs": [
        {
          "output_type": "execute_result",
          "data": {
            "text/plain": [
              "<matplotlib.axes._subplots.AxesSubplot at 0x7f05f5067c88>"
            ]
          },
          "metadata": {
            "tags": []
          },
          "execution_count": 16
        },
        {
          "output_type": "display_data",
          "data": {
            "image/png": "[encoded data removed]",
            "text/plain": [
              "<Figure size 1296x360 with 1 Axes>"
            ]
          },
          "metadata": {
            "tags": []
          }
        }
      ]
    },
    {
      "cell_type": "markdown",
      "metadata": {
        "id": "XzVyyyfHk1Tj"
      },
      "source": [
        "Due to the presence of seasonality, SARIMA is used as a forecasting model"
      ]
    },
    {
      "cell_type": "markdown",
      "metadata": {
        "id": "d2sQ9jtfcCk1"
      },
      "source": [
        "#Pipline to check if the time series is stationary"
      ]
    },
    {
      "cell_type": "code",
      "metadata": {
        "id": "yfL5oQGzcDHL"
      },
      "source": [
        "from statsmodels.tsa.stattools import adfuller\r\n",
        "\r\n",
        "def adf_test(series,title=''):\r\n",
        "    \"\"\"\r\n",
        "    Pass in a time series and an optional title, returns an ADF report\r\n",
        "    \"\"\"\r\n",
        "    print(f'Augmented Dickey-Fuller Test: {title}')\r\n",
        "    result = adfuller(series.dropna(),autolag='AIC') # .dropna() handles differenced data\r\n",
        "    \r\n",
        "    labels = ['ADF test statistic','p-value','# lags used','# observations']\r\n",
        "    out = pd.Series(result[0:4],index=labels)\r\n",
        "\r\n",
        "    for key,val in result[4].items():\r\n",
        "        out[f'critical value ({key})']=val\r\n",
        "        \r\n",
        "    print(out.to_string())          # .to_string() removes the line \"dtype: float64\"\r\n",
        "    \r\n",
        "    if result[1] <= 0.05:\r\n",
        "        print(\"Strong evidence against the null hypothesis\")\r\n",
        "        print(\"Reject the null hypothesis\")\r\n",
        "        print(\"Data has no unit root and is stationary\")\r\n",
        "    else:\r\n",
        "        print(\"Weak evidence against the null hypothesis\")\r\n",
        "        print(\"Fail to reject the null hypothesis\")\r\n",
        "        print(\"Data has a unit root and is non-stationary\")"
      ],
      "execution_count": null,
      "outputs": []
    },
    {
      "cell_type": "code",
      "metadata": {
        "id": "p0xl7b5mcOsy"
      },
      "source": [
        "adf_test(Demand['Urgent Daily Demand'],title='')"
      ],
      "execution_count": null,
      "outputs": []
    },
    {
      "cell_type": "markdown",
      "metadata": {
        "id": "ntthNRd0ucnp"
      },
      "source": [
        "#Building a SARIMA model"
      ]
    },
    {
      "cell_type": "markdown",
      "metadata": {
        "id": "H9VIJDaAahzS"
      },
      "source": [
        "**SARIMA configuration**\r\n",
        "A seasonal ARIMA model is classified as an \"ARIMA(p,d,q)x(P,D,Q)\" model, where:\r\n",
        "(p,d,q) describes the non-seasonal part and (P,D,Q) describes the seasonal part.\r\n",
        "\r\n",
        "\r\n",
        "*   **p** is the number of autoregressive term\r\n",
        "*   **d** is the number of nonseasonal difference needed for stationarity\r\n",
        "*   **q** is the number of lagged forecast errors in the prediction equation\r\n",
        "*   **P** is the number of seasonal autoregressive term (SAR).\r\n",
        "*   **D** is the number of seasonal differences.\r\n",
        "*   **Q** is the number of seasonal moving average (SMA) terms."
      ]
    },
    {
      "cell_type": "markdown",
      "metadata": {
        "id": "zS4Ecnrduz0H"
      },
      "source": [
        "**Step 1:** spliting the dataset into train/test sets\r\n"
      ]
    },
    {
      "cell_type": "code",
      "metadata": {
        "id": "1VFpOSY-xroo"
      },
      "source": [
        "def train_test_split(df_in, train_prop):\r\n",
        "  train_size=int(len(df_in) *train_prop)\r\n",
        "  test_size = int(len(df_in)) - train_size\r\n",
        "  \r\n",
        "  return df_in[:-test_size], df_in[-test_size:]"
      ],
      "execution_count": 17,
      "outputs": []
    },
    {
      "cell_type": "code",
      "metadata": {
        "id": "tXAc0ZzFuy0z"
      },
      "source": [
        "trainset, testset = train_test_split(Demand, 0.7)"
      ],
      "execution_count": 18,
      "outputs": []
    },
    {
      "cell_type": "code",
      "metadata": {
        "colab": {
          "base_uri": "https://localhost:8080/",
          "height": 431
        },
        "id": "f8L5uwyVzTtz",
        "outputId": "297bd731-f9a1-425f-c4a2-e580dd9e874c"
      },
      "source": [
        "trainset"
      ],
      "execution_count": 19,
      "outputs": [
        {
          "output_type": "execute_result",
          "data": {
            "text/html": [
              "<div>\n",
              "<style scoped>\n",
              "    .dataframe tbody tr th:only-of-type {\n",
              "        vertical-align: middle;\n",
              "    }\n",
              "\n",
              "    .dataframe tbody tr th {\n",
              "        vertical-align: top;\n",
              "    }\n",
              "\n",
              "    .dataframe thead th {\n",
              "        text-align: right;\n",
              "    }\n",
              "</style>\n",
              "<table border=\"1\" class=\"dataframe\">\n",
              "  <thead>\n",
              "    <tr style=\"text-align: right;\">\n",
              "      <th></th>\n",
              "      <th>Urgent Daily Demand</th>\n",
              "      <th>CareContinuity</th>\n",
              "      <th>Weekday</th>\n",
              "      <th>Monday</th>\n",
              "      <th>Tuesday</th>\n",
              "      <th>Wednesday</th>\n",
              "      <th>Thursday</th>\n",
              "      <th>Friday</th>\n",
              "    </tr>\n",
              "    <tr>\n",
              "      <th>Booking Date</th>\n",
              "      <th></th>\n",
              "      <th></th>\n",
              "      <th></th>\n",
              "      <th></th>\n",
              "      <th></th>\n",
              "      <th></th>\n",
              "      <th></th>\n",
              "      <th></th>\n",
              "    </tr>\n",
              "  </thead>\n",
              "  <tbody>\n",
              "    <tr>\n",
              "      <th>2017-08-24</th>\n",
              "      <td>1.0</td>\n",
              "      <td>0.0</td>\n",
              "      <td>Thursday</td>\n",
              "      <td>0</td>\n",
              "      <td>0</td>\n",
              "      <td>0</td>\n",
              "      <td>1</td>\n",
              "      <td>0</td>\n",
              "    </tr>\n",
              "    <tr>\n",
              "      <th>2017-08-25</th>\n",
              "      <td>0.0</td>\n",
              "      <td>0.0</td>\n",
              "      <td>Friday</td>\n",
              "      <td>0</td>\n",
              "      <td>0</td>\n",
              "      <td>0</td>\n",
              "      <td>0</td>\n",
              "      <td>1</td>\n",
              "    </tr>\n",
              "    <tr>\n",
              "      <th>2017-08-26</th>\n",
              "      <td>0.0</td>\n",
              "      <td>0.0</td>\n",
              "      <td>Saturday</td>\n",
              "      <td>0</td>\n",
              "      <td>0</td>\n",
              "      <td>0</td>\n",
              "      <td>0</td>\n",
              "      <td>0</td>\n",
              "    </tr>\n",
              "    <tr>\n",
              "      <th>2017-08-27</th>\n",
              "      <td>0.0</td>\n",
              "      <td>0.0</td>\n",
              "      <td>Sunday</td>\n",
              "      <td>0</td>\n",
              "      <td>0</td>\n",
              "      <td>0</td>\n",
              "      <td>0</td>\n",
              "      <td>0</td>\n",
              "    </tr>\n",
              "    <tr>\n",
              "      <th>2017-08-28</th>\n",
              "      <td>0.0</td>\n",
              "      <td>0.0</td>\n",
              "      <td>Monday</td>\n",
              "      <td>1</td>\n",
              "      <td>0</td>\n",
              "      <td>0</td>\n",
              "      <td>0</td>\n",
              "      <td>0</td>\n",
              "    </tr>\n",
              "    <tr>\n",
              "      <th>...</th>\n",
              "      <td>...</td>\n",
              "      <td>...</td>\n",
              "      <td>...</td>\n",
              "      <td>...</td>\n",
              "      <td>...</td>\n",
              "      <td>...</td>\n",
              "      <td>...</td>\n",
              "      <td>...</td>\n",
              "    </tr>\n",
              "    <tr>\n",
              "      <th>2018-05-07</th>\n",
              "      <td>6.0</td>\n",
              "      <td>4.0</td>\n",
              "      <td>Monday</td>\n",
              "      <td>1</td>\n",
              "      <td>0</td>\n",
              "      <td>0</td>\n",
              "      <td>0</td>\n",
              "      <td>0</td>\n",
              "    </tr>\n",
              "    <tr>\n",
              "      <th>2018-05-08</th>\n",
              "      <td>5.0</td>\n",
              "      <td>4.0</td>\n",
              "      <td>Tuesday</td>\n",
              "      <td>0</td>\n",
              "      <td>1</td>\n",
              "      <td>0</td>\n",
              "      <td>0</td>\n",
              "      <td>0</td>\n",
              "    </tr>\n",
              "    <tr>\n",
              "      <th>2018-05-09</th>\n",
              "      <td>6.0</td>\n",
              "      <td>3.0</td>\n",
              "      <td>Wednesday</td>\n",
              "      <td>0</td>\n",
              "      <td>0</td>\n",
              "      <td>1</td>\n",
              "      <td>0</td>\n",
              "      <td>0</td>\n",
              "    </tr>\n",
              "    <tr>\n",
              "      <th>2018-05-10</th>\n",
              "      <td>2.0</td>\n",
              "      <td>1.0</td>\n",
              "      <td>Thursday</td>\n",
              "      <td>0</td>\n",
              "      <td>0</td>\n",
              "      <td>0</td>\n",
              "      <td>1</td>\n",
              "      <td>0</td>\n",
              "    </tr>\n",
              "    <tr>\n",
              "      <th>2018-05-11</th>\n",
              "      <td>8.0</td>\n",
              "      <td>5.0</td>\n",
              "      <td>Friday</td>\n",
              "      <td>0</td>\n",
              "      <td>0</td>\n",
              "      <td>0</td>\n",
              "      <td>0</td>\n",
              "      <td>1</td>\n",
              "    </tr>\n",
              "  </tbody>\n",
              "</table>\n",
              "<p>261 rows × 8 columns</p>\n",
              "</div>"
            ],
            "text/plain": [
              "              Urgent Daily Demand  CareContinuity  ... Thursday  Friday\n",
              "Booking Date                                       ...                 \n",
              "2017-08-24                    1.0             0.0  ...        1       0\n",
              "2017-08-25                    0.0             0.0  ...        0       1\n",
              "2017-08-26                    0.0             0.0  ...        0       0\n",
              "2017-08-27                    0.0             0.0  ...        0       0\n",
              "2017-08-28                    0.0             0.0  ...        0       0\n",
              "...                           ...             ...  ...      ...     ...\n",
              "2018-05-07                    6.0             4.0  ...        0       0\n",
              "2018-05-08                    5.0             4.0  ...        0       0\n",
              "2018-05-09                    6.0             3.0  ...        0       0\n",
              "2018-05-10                    2.0             1.0  ...        1       0\n",
              "2018-05-11                    8.0             5.0  ...        0       1\n",
              "\n",
              "[261 rows x 8 columns]"
            ]
          },
          "metadata": {
            "tags": []
          },
          "execution_count": 19
        }
      ]
    },
    {
      "cell_type": "code",
      "metadata": {
        "colab": {
          "base_uri": "https://localhost:8080/",
          "height": 431
        },
        "id": "OlPpcJZVzZtE",
        "outputId": "21092930-3f75-43a2-c4be-bc70f6141075"
      },
      "source": [
        "testset"
      ],
      "execution_count": 20,
      "outputs": [
        {
          "output_type": "execute_result",
          "data": {
            "text/html": [
              "<div>\n",
              "<style scoped>\n",
              "    .dataframe tbody tr th:only-of-type {\n",
              "        vertical-align: middle;\n",
              "    }\n",
              "\n",
              "    .dataframe tbody tr th {\n",
              "        vertical-align: top;\n",
              "    }\n",
              "\n",
              "    .dataframe thead th {\n",
              "        text-align: right;\n",
              "    }\n",
              "</style>\n",
              "<table border=\"1\" class=\"dataframe\">\n",
              "  <thead>\n",
              "    <tr style=\"text-align: right;\">\n",
              "      <th></th>\n",
              "      <th>Urgent Daily Demand</th>\n",
              "      <th>CareContinuity</th>\n",
              "      <th>Weekday</th>\n",
              "      <th>Monday</th>\n",
              "      <th>Tuesday</th>\n",
              "      <th>Wednesday</th>\n",
              "      <th>Thursday</th>\n",
              "      <th>Friday</th>\n",
              "    </tr>\n",
              "    <tr>\n",
              "      <th>Booking Date</th>\n",
              "      <th></th>\n",
              "      <th></th>\n",
              "      <th></th>\n",
              "      <th></th>\n",
              "      <th></th>\n",
              "      <th></th>\n",
              "      <th></th>\n",
              "      <th></th>\n",
              "    </tr>\n",
              "  </thead>\n",
              "  <tbody>\n",
              "    <tr>\n",
              "      <th>2018-05-12</th>\n",
              "      <td>0.0</td>\n",
              "      <td>0.0</td>\n",
              "      <td>Saturday</td>\n",
              "      <td>0</td>\n",
              "      <td>0</td>\n",
              "      <td>0</td>\n",
              "      <td>0</td>\n",
              "      <td>0</td>\n",
              "    </tr>\n",
              "    <tr>\n",
              "      <th>2018-05-13</th>\n",
              "      <td>0.0</td>\n",
              "      <td>0.0</td>\n",
              "      <td>Sunday</td>\n",
              "      <td>0</td>\n",
              "      <td>0</td>\n",
              "      <td>0</td>\n",
              "      <td>0</td>\n",
              "      <td>0</td>\n",
              "    </tr>\n",
              "    <tr>\n",
              "      <th>2018-05-14</th>\n",
              "      <td>4.0</td>\n",
              "      <td>3.0</td>\n",
              "      <td>Monday</td>\n",
              "      <td>1</td>\n",
              "      <td>0</td>\n",
              "      <td>0</td>\n",
              "      <td>0</td>\n",
              "      <td>0</td>\n",
              "    </tr>\n",
              "    <tr>\n",
              "      <th>2018-05-15</th>\n",
              "      <td>3.0</td>\n",
              "      <td>1.0</td>\n",
              "      <td>Tuesday</td>\n",
              "      <td>0</td>\n",
              "      <td>1</td>\n",
              "      <td>0</td>\n",
              "      <td>0</td>\n",
              "      <td>0</td>\n",
              "    </tr>\n",
              "    <tr>\n",
              "      <th>2018-05-16</th>\n",
              "      <td>5.0</td>\n",
              "      <td>2.0</td>\n",
              "      <td>Wednesday</td>\n",
              "      <td>0</td>\n",
              "      <td>0</td>\n",
              "      <td>1</td>\n",
              "      <td>0</td>\n",
              "      <td>0</td>\n",
              "    </tr>\n",
              "    <tr>\n",
              "      <th>...</th>\n",
              "      <td>...</td>\n",
              "      <td>...</td>\n",
              "      <td>...</td>\n",
              "      <td>...</td>\n",
              "      <td>...</td>\n",
              "      <td>...</td>\n",
              "      <td>...</td>\n",
              "      <td>...</td>\n",
              "    </tr>\n",
              "    <tr>\n",
              "      <th>2018-08-27</th>\n",
              "      <td>6.0</td>\n",
              "      <td>1.0</td>\n",
              "      <td>Monday</td>\n",
              "      <td>1</td>\n",
              "      <td>0</td>\n",
              "      <td>0</td>\n",
              "      <td>0</td>\n",
              "      <td>0</td>\n",
              "    </tr>\n",
              "    <tr>\n",
              "      <th>2018-08-28</th>\n",
              "      <td>2.0</td>\n",
              "      <td>2.0</td>\n",
              "      <td>Tuesday</td>\n",
              "      <td>0</td>\n",
              "      <td>1</td>\n",
              "      <td>0</td>\n",
              "      <td>0</td>\n",
              "      <td>0</td>\n",
              "    </tr>\n",
              "    <tr>\n",
              "      <th>2018-08-29</th>\n",
              "      <td>4.0</td>\n",
              "      <td>2.0</td>\n",
              "      <td>Wednesday</td>\n",
              "      <td>0</td>\n",
              "      <td>0</td>\n",
              "      <td>1</td>\n",
              "      <td>0</td>\n",
              "      <td>0</td>\n",
              "    </tr>\n",
              "    <tr>\n",
              "      <th>2018-08-30</th>\n",
              "      <td>1.0</td>\n",
              "      <td>0.0</td>\n",
              "      <td>Thursday</td>\n",
              "      <td>0</td>\n",
              "      <td>0</td>\n",
              "      <td>0</td>\n",
              "      <td>1</td>\n",
              "      <td>0</td>\n",
              "    </tr>\n",
              "    <tr>\n",
              "      <th>2018-08-31</th>\n",
              "      <td>2.0</td>\n",
              "      <td>0.0</td>\n",
              "      <td>Friday</td>\n",
              "      <td>0</td>\n",
              "      <td>0</td>\n",
              "      <td>0</td>\n",
              "      <td>0</td>\n",
              "      <td>1</td>\n",
              "    </tr>\n",
              "  </tbody>\n",
              "</table>\n",
              "<p>112 rows × 8 columns</p>\n",
              "</div>"
            ],
            "text/plain": [
              "              Urgent Daily Demand  CareContinuity  ... Thursday  Friday\n",
              "Booking Date                                       ...                 \n",
              "2018-05-12                    0.0             0.0  ...        0       0\n",
              "2018-05-13                    0.0             0.0  ...        0       0\n",
              "2018-05-14                    4.0             3.0  ...        0       0\n",
              "2018-05-15                    3.0             1.0  ...        0       0\n",
              "2018-05-16                    5.0             2.0  ...        0       0\n",
              "...                           ...             ...  ...      ...     ...\n",
              "2018-08-27                    6.0             1.0  ...        0       0\n",
              "2018-08-28                    2.0             2.0  ...        0       0\n",
              "2018-08-29                    4.0             2.0  ...        0       0\n",
              "2018-08-30                    1.0             0.0  ...        1       0\n",
              "2018-08-31                    2.0             0.0  ...        0       1\n",
              "\n",
              "[112 rows x 8 columns]"
            ]
          },
          "metadata": {
            "tags": []
          },
          "execution_count": 20
        }
      ]
    },
    {
      "cell_type": "markdown",
      "metadata": {
        "id": "xdtamwX0wfoD"
      },
      "source": [
        "**Step 2:** using autocorrelation plots finding initial parameters for SARIMA model. an initial AR order p can be determined by sample PACF (partial auto correlation). If the PACF cuts off after some lags, that number is the order of AR. Also, an initial MA order q can be determined by looking at the sample ACF (auto correlation). If the ACF cuts off after some lags, that number is the order of MA.\r\n"
      ]
    },
    {
      "cell_type": "code",
      "metadata": {
        "colab": {
          "base_uri": "https://localhost:8080/",
          "height": 360
        },
        "id": "JfiJETlMGOAQ",
        "outputId": "9052dca4-8035-4dd4-9085-42b95ddc8ce3"
      },
      "source": [
        "fig,ax= plt.subplots(2,1, figsize=(10,5))\r\n",
        "fig=sm.tsa.graphics.plot_acf(trainset['Urgent Daily Demand'], lags=28, ax=ax[0])\r\n",
        "fig=sm.tsa.graphics.plot_pacf(trainset['Urgent Daily Demand'], lags=28, ax=ax[1])\r\n",
        "plt.show()"
      ],
      "execution_count": 21,
      "outputs": [
        {
          "output_type": "display_data",
          "data": {
            "image/png": "[encoded data removed]",
            "text/plain": [
              "<Figure size 720x360 with 2 Axes>"
            ]
          },
          "metadata": {
            "tags": []
          }
        }
      ]
    },
    {
      "cell_type": "markdown",
      "metadata": {
        "id": "t88emb9O1VEj"
      },
      "source": [
        "Since both ACF and PACF presents significant lags in weekly seasonal pattern, I took the difference of demand values"
      ]
    },
    {
      "cell_type": "code",
      "metadata": {
        "id": "6JMgC1qEUzJF"
      },
      "source": [
        "# create a differenced series\r\n",
        "def difference(df_in, interval=1):\r\n",
        "\tdiff = list()\r\n",
        "\tfor i in range(interval, len(df_in)):\r\n",
        "\t\tvalue = df_in[i] - df_in[i - interval]\r\n",
        "\t\tdiff.append(value)\r\n",
        "\treturn np.array(diff)"
      ],
      "execution_count": 22,
      "outputs": []
    },
    {
      "cell_type": "code",
      "metadata": {
        "id": "y1n6V82MHejZ"
      },
      "source": [
        "# invert differenced value\r\n",
        "def inverse_difference(history, yhat, interval):\r\n",
        "\treturn yhat + history[-interval]"
      ],
      "execution_count": 23,
      "outputs": []
    },
    {
      "cell_type": "code",
      "metadata": {
        "id": "zr50SnYdHeeX"
      },
      "source": [
        "ydiff = trainset['Urgent Daily Demand'].values\r\n",
        "daysinweek = 7\r\n",
        "differenced = difference(ydiff, daysinweek)"
      ],
      "execution_count": 24,
      "outputs": []
    },
    {
      "cell_type": "code",
      "metadata": {
        "colab": {
          "base_uri": "https://localhost:8080/",
          "height": 360
        },
        "id": "RXx_ufEvHeZR",
        "outputId": "03febca7-1695-437b-d463-780c48bc148a"
      },
      "source": [
        "fig,ax= plt.subplots(2,1, figsize=(10,5))\r\n",
        "fig=sm.tsa.graphics.plot_acf(differenced, lags=28, ax=ax[0])\r\n",
        "fig=sm.tsa.graphics.plot_pacf(differenced, lags=28, ax=ax[1])\r\n",
        "plt.show()"
      ],
      "execution_count": 25,
      "outputs": [
        {
          "output_type": "display_data",
          "data": {
            "image/png": "[encoded data removed]",
            "text/plain": [
              "<Figure size 720x360 with 2 Axes>"
            ]
          },
          "metadata": {
            "tags": []
          }
        }
      ]
    },
    {
      "cell_type": "markdown",
      "metadata": {
        "id": "fH2_IMHZLg9W"
      },
      "source": [
        "\r\n",
        "\r\n",
        "1.   ACF plot shows significant lags to 1 time step and 7 time steps\r\n",
        "2.   PACF plot shows signiant lags at 1 time step and 7,14,21 time steps\r\n",
        "3.   Therefore as start point we start with SARIMA (1,0,0)(2,1,1)[7]\r\n",
        "\r\n"
      ]
    },
    {
      "cell_type": "markdown",
      "metadata": {
        "id": "X1m86Dowa9J5"
      },
      "source": [
        "**Step3:** training the model"
      ]
    },
    {
      "cell_type": "code",
      "metadata": {
        "id": "Qf75eg87Uydh",
        "colab": {
          "base_uri": "https://localhost:8080/"
        },
        "outputId": "bff67b46-0fc6-40c5-91b9-0376c2e3c564"
      },
      "source": [
        "model= SARIMAX(trainset['Urgent Daily Demand'],order=(1,0,1),seasonal_order=(2,1,1,7),\r\n",
        " enforce_invertibility=False, enforce_stationarity=False)\r\n",
        "#Fiting the model\r\n",
        "results= model.fit()\r\n",
        "train_size=int(len(Demand) *0.7)\r\n",
        "test_size = int(len(Demand)) - train_size\r\n",
        "#Forecasting\r\n",
        "forecast_sarima= results.forecast(steps=test_size)\r\n",
        "forecast_sarima"
      ],
      "execution_count": 28,
      "outputs": [
        {
          "output_type": "stream",
          "text": [
            "/usr/local/lib/python3.6/dist-packages/statsmodels/tsa/base/tsa_model.py:527: ValueWarning: No frequency information was provided, so inferred frequency D will be used.\n",
            "  % freq, ValueWarning)\n",
            "/usr/local/lib/python3.6/dist-packages/statsmodels/tsa/base/tsa_model.py:527: ValueWarning: No frequency information was provided, so inferred frequency D will be used.\n",
            "  % freq, ValueWarning)\n"
          ],
          "name": "stderr"
        },
        {
          "output_type": "execute_result",
          "data": {
            "text/plain": [
              "2018-05-12    0.309208\n",
              "2018-05-13   -0.217313\n",
              "2018-05-14    7.194307\n",
              "2018-05-15    4.465190\n",
              "2018-05-16    4.628198\n",
              "                ...   \n",
              "2018-08-27    7.014747\n",
              "2018-08-28    4.644401\n",
              "2018-08-29    4.353239\n",
              "2018-08-30    4.259882\n",
              "2018-08-31    3.888750\n",
              "Freq: D, Name: predicted_mean, Length: 112, dtype: float64"
            ]
          },
          "metadata": {
            "tags": []
          },
          "execution_count": 28
        }
      ]
    },
    {
      "cell_type": "markdown",
      "metadata": {
        "id": "7W3mNs5SpfG5"
      },
      "source": [
        "**Step 4:**Time Series Cross Validation (Walk forward approach)"
      ]
    },
    {
      "cell_type": "code",
      "metadata": {
        "id": "FI3U-FxIboPu",
        "colab": {
          "base_uri": "https://localhost:8080/",
          "height": 1000
        },
        "outputId": "3bd14c97-db95-400b-c504-feba8f27f8f8"
      },
      "source": [
        "history = [x for x in trainset['Urgent Daily Demand']]\r\n",
        "test = testset['Urgent Daily Demand'].values\r\n",
        "predictions = list()\r\n",
        "for t in range(len(test)):\r\n",
        "  model = SARIMAX(history, order=(1,0,1),seasonal_order=(2,1,1,7))\r\n",
        "  model_fit = model.fit(disp=0)\r\n",
        "  output = model_fit.forecast()\r\n",
        "  yhat = output[0]\r\n",
        "  predictions.append((yhat))\r\n",
        "  obs = test[t]\r\n",
        "  history.append(obs)\r\n",
        "  print('predicted=%f, expected=%f' % ((yhat), (obs)))\r\n",
        "error1 = mean_absolute_error((test), (predictions))\r\n",
        "error2 = mean_squared_error((test), (predictions))\r\n",
        "error3 = rmse((test), (predictions))\r\n",
        "print('SARIMA(1,0,1)(2,1,1)[7] MAE Error: %.3f' %error1)\r\n",
        "print('SARIMA(1,0,1)(2,1,1)[7] MSE Error: %.3f' %error2)\r\n",
        "print('SARIMA(1,0,1)(2,1,1)[7] RMSE Error: %.3f'%error3)\r\n",
        "# plot\r\n",
        "pyplot.plot((test))\r\n",
        "pyplot.plot(predictions, color='red')\r\n",
        "pyplot.show()"
      ],
      "execution_count": 30,
      "outputs": [
        {
          "output_type": "stream",
          "text": [
            "predicted=-0.084270, expected=0.000000\n",
            "predicted=0.168827, expected=0.000000\n",
            "predicted=6.423213, expected=4.000000\n",
            "predicted=4.920028, expected=3.000000\n",
            "predicted=4.369773, expected=5.000000\n",
            "predicted=3.962740, expected=3.000000\n",
            "predicted=4.137231, expected=5.000000\n",
            "predicted=0.165640, expected=0.000000\n",
            "predicted=-0.068336, expected=0.000000\n",
            "predicted=6.330256, expected=0.000000\n",
            "predicted=4.530761, expected=5.000000\n",
            "predicted=4.310774, expected=3.000000\n",
            "predicted=4.070814, expected=7.000000\n",
            "predicted=3.726332, expected=1.000000\n",
            "predicted=0.473778, expected=0.000000\n",
            "predicted=-0.342697, expected=0.000000\n",
            "predicted=5.866875, expected=6.000000\n",
            "predicted=4.379534, expected=6.000000\n",
            "predicted=4.330460, expected=2.000000\n",
            "predicted=4.415534, expected=6.000000\n",
            "predicted=3.408075, expected=3.000000\n",
            "predicted=0.034724, expected=0.000000\n",
            "predicted=0.049578, expected=0.000000\n",
            "predicted=6.323838, expected=11.000000\n",
            "predicted=4.733248, expected=3.000000\n",
            "predicted=4.127536, expected=4.000000\n",
            "predicted=4.230952, expected=5.000000\n",
            "predicted=3.779492, expected=2.000000\n",
            "predicted=0.036918, expected=0.000000\n",
            "predicted=0.047489, expected=0.000000\n",
            "predicted=7.111691, expected=3.000000\n",
            "predicted=4.587235, expected=7.000000\n",
            "predicted=3.955183, expected=2.000000\n",
            "predicted=4.645714, expected=3.000000\n",
            "predicted=3.221439, expected=2.000000\n",
            "predicted=0.361876, expected=0.000000\n",
            "predicted=-0.246466, expected=0.000000\n",
            "predicted=6.216079, expected=5.000000\n",
            "predicted=4.831653, expected=2.000000\n",
            "predicted=4.161916, expected=1.000000\n",
            "predicted=3.919883, expected=1.000000\n",
            "predicted=3.652953, expected=1.000000\n",
            "predicted=-0.034499, expected=0.000000\n",
            "predicted=0.107915, expected=0.000000\n",
            "predicted=6.165749, expected=4.000000\n",
            "predicted=4.439087, expected=6.000000\n",
            "predicted=3.480293, expected=3.000000\n",
            "predicted=3.935746, expected=5.000000\n",
            "predicted=2.984093, expected=6.000000\n",
            "predicted=0.204711, expected=0.000000\n",
            "predicted=-0.111223, expected=0.000000\n",
            "predicted=6.184822, expected=0.000000\n",
            "predicted=4.950897, expected=9.000000\n",
            "predicted=3.580367, expected=3.000000\n",
            "predicted=4.598201, expected=10.000000\n",
            "predicted=3.298586, expected=3.000000\n",
            "predicted=0.698223, expected=2.000000\n",
            "predicted=-0.649480, expected=0.000000\n",
            "predicted=5.896389, expected=3.000000\n",
            "predicted=5.087275, expected=14.000000\n",
            "predicted=3.057627, expected=5.000000\n"
          ],
          "name": "stdout"
        },
        {
          "output_type": "stream",
          "text": [
            "/usr/local/lib/python3.6/dist-packages/statsmodels/base/model.py:568: ConvergenceWarning: Maximum Likelihood optimization failed to converge. Check mle_retvals\n",
            "  ConvergenceWarning)\n"
          ],
          "name": "stderr"
        },
        {
          "output_type": "stream",
          "text": [
            "predicted=5.488307, expected=1.000000\n",
            "predicted=3.742367, expected=6.000000\n",
            "predicted=0.080848, expected=0.000000\n",
            "predicted=0.155526, expected=0.000000\n",
            "predicted=5.495707, expected=7.000000\n",
            "predicted=6.170976, expected=3.000000\n",
            "predicted=4.462642, expected=4.000000\n",
            "predicted=3.794961, expected=6.000000\n",
            "predicted=3.764299, expected=3.000000\n",
            "predicted=0.275102, expected=0.000000\n",
            "predicted=-0.029617, expected=0.000000\n",
            "predicted=6.212369, expected=7.000000\n",
            "predicted=4.783610, expected=4.000000\n",
            "predicted=4.162640, expected=7.000000\n",
            "predicted=4.104634, expected=4.000000\n",
            "predicted=3.731515, expected=6.000000\n",
            "predicted=-0.149276, expected=1.000000\n",
            "predicted=0.014014, expected=0.000000\n",
            "predicted=6.290549, expected=12.000000\n",
            "predicted=4.253824, expected=7.000000\n",
            "predicted=4.436754, expected=9.000000\n",
            "predicted=3.885390, expected=1.000000\n",
            "predicted=4.377507, expected=3.000000\n",
            "predicted=0.150200, expected=0.000000\n",
            "predicted=0.058479, expected=0.000000\n",
            "predicted=6.976101, expected=0.000000\n",
            "predicted=5.663367, expected=7.000000\n",
            "predicted=4.337427, expected=2.000000\n",
            "predicted=4.302387, expected=4.000000\n",
            "predicted=3.402899, expected=6.000000\n",
            "predicted=0.023996, expected=0.000000\n",
            "predicted=0.060362, expected=0.000000\n",
            "predicted=5.650774, expected=8.000000\n",
            "predicted=5.023117, expected=2.000000\n",
            "predicted=4.414934, expected=4.000000\n",
            "predicted=3.971033, expected=5.000000\n",
            "predicted=3.879972, expected=2.000000\n",
            "predicted=0.292911, expected=0.000000\n",
            "predicted=-0.055900, expected=0.000000\n",
            "predicted=6.297099, expected=9.000000\n",
            "predicted=4.452567, expected=4.000000\n",
            "predicted=4.301533, expected=1.000000\n",
            "predicted=4.460234, expected=7.000000\n",
            "predicted=3.238295, expected=4.000000\n",
            "predicted=0.194677, expected=0.000000\n",
            "predicted=-0.015466, expected=0.000000\n",
            "predicted=6.531124, expected=6.000000\n",
            "predicted=4.843090, expected=2.000000\n",
            "predicted=4.067113, expected=4.000000\n",
            "predicted=4.394724, expected=1.000000\n",
            "predicted=4.029086, expected=2.000000\n",
            "SARIMA(1,0,1)(2,1,1)[7] MAE Error: 1.654\n",
            "SARIMA(1,0,1)(2,1,1)[7] MSE Error: 5.653\n",
            "SARIMA(1,0,1)(2,1,1)[7] RMSE Error: 2.378\n"
          ],
          "name": "stdout"
        },
        {
          "output_type": "display_data",
          "data": {
            "image/png": "[encoded data removed]",
            "text/plain": [
              "<Figure size 432x288 with 1 Axes>"
            ]
          },
          "metadata": {
            "tags": []
          }
        }
      ]
    },
    {
      "cell_type": "code",
      "metadata": {
        "id": "OvTWxb-mnBht"
      },
      "source": [
        "def retrive_cum_rmse(test,predict):\r\n",
        "    \"\"\"Reterive the cumulative Root Mean Square Error between a test dataset and real values.\r\n",
        "    \"\"\"\r\n",
        "    cum_err = np.cumsum(np.sqrt((test - predict)**2))\r\n",
        "    for i in range(len(cum_err)):\r\n",
        "        cum_err[i] /= i+1\r\n",
        "    return cum_err"
      ],
      "execution_count": 31,
      "outputs": []
    },
    {
      "cell_type": "code",
      "metadata": {
        "colab": {
          "base_uri": "https://localhost:8080/",
          "height": 506
        },
        "id": "who5FaDGnBSU",
        "outputId": "6812f988-b2d9-455b-88c3-5e39158098f5"
      },
      "source": [
        "Sarimaerr = retrive_cum_rmse(test,predictions)\r\n",
        "fig, ax = plt.subplots(figsize=(18,8))\r\n",
        "ax.plot(Sarimaerr, 'b', label='Sarima')"
      ],
      "execution_count": 33,
      "outputs": [
        {
          "output_type": "execute_result",
          "data": {
            "text/plain": [
              "[<matplotlib.lines.Line2D at 0x7f05ea9afa20>]"
            ]
          },
          "metadata": {
            "tags": []
          },
          "execution_count": 33
        },
        {
          "output_type": "display_data",
          "data": {
            "image/png": "[encoded data removed]",
            "text/plain": [
              "<Figure size 1296x576 with 1 Axes>"
            ]
          },
          "metadata": {
            "tags": []
          }
        }
      ]
    },
    {
      "cell_type": "markdown",
      "metadata": {
        "id": "FXNQ7tMExSIE"
      },
      "source": [
        "**Step5:** Improving the model (Grid search)"
      ]
    },
    {
      "cell_type": "markdown",
      "metadata": {
        "id": "mxqJwJQzzbTP"
      },
      "source": [
        "Creating a set of sarima configs to try"
      ]
    },
    {
      "cell_type": "code",
      "metadata": {
        "id": "JZBlHKynt-kv"
      },
      "source": [
        "def sarima_configs(seasonal=[0]):\r\n",
        "\tmodels = list()\r\n",
        "\t# define config lists\r\n",
        "\tp_params = [0, 1, 2]\r\n",
        "\td_params = [0, 1]\r\n",
        "\tq_params = [0, 1, 2]\r\n",
        "\t#t_params = ['n','c','t','ct']\r\n",
        "\t#P_params = [1, 2]\r\n",
        "\t#D_params = [1]\r\n",
        "\t#Q_params = [1, 2]\r\n",
        "\t#m_params = seasonal\r\n",
        "\t# create config instances\r\n",
        "\tfor p in p_params:\r\n",
        "\t\tfor d in d_params:\r\n",
        "\t\t\tfor q in q_params:\r\n",
        "\t\t\t\t#for t in t_params:\r\n",
        "\t\t\t\t\t#for P in P_params:\r\n",
        "\t\t\t\t\t\t#for D in D_params:\r\n",
        "\t\t\t\t\t\t\t#for Q in Q_params:\r\n",
        "\t\t\t\t\t\t\t\t#for m in m_params:\r\n",
        "\t\t\t\t\t\t\t\t\tcfg = [(p,0,q), (1,1,1,7), 'n']\r\n",
        "\t\t\t\t\t\t\t\t\tmodels.append(cfg)\r\n",
        "\treturn models\r\n"
      ],
      "execution_count": 58,
      "outputs": []
    },
    {
      "cell_type": "code",
      "metadata": {
        "colab": {
          "base_uri": "https://localhost:8080/"
        },
        "id": "ijEZN73Qt-Uw",
        "outputId": "f3a2a7b0-7963-426b-edeb-d8fb4524ad02"
      },
      "source": [
        "# model configs\r\n",
        "cfg_list = sarima_configs()\r\n",
        "cfg_list"
      ],
      "execution_count": 59,
      "outputs": [
        {
          "output_type": "execute_result",
          "data": {
            "text/plain": [
              "[[(0, 0, 0), (1, 1, 1, 7), 'n'],\n",
              " [(0, 0, 1), (1, 1, 1, 7), 'n'],\n",
              " [(0, 0, 2), (1, 1, 1, 7), 'n'],\n",
              " [(0, 0, 0), (1, 1, 1, 7), 'n'],\n",
              " [(0, 0, 1), (1, 1, 1, 7), 'n'],\n",
              " [(0, 0, 2), (1, 1, 1, 7), 'n'],\n",
              " [(1, 0, 0), (1, 1, 1, 7), 'n'],\n",
              " [(1, 0, 1), (1, 1, 1, 7), 'n'],\n",
              " [(1, 0, 2), (1, 1, 1, 7), 'n'],\n",
              " [(1, 0, 0), (1, 1, 1, 7), 'n'],\n",
              " [(1, 0, 1), (1, 1, 1, 7), 'n'],\n",
              " [(1, 0, 2), (1, 1, 1, 7), 'n'],\n",
              " [(2, 0, 0), (1, 1, 1, 7), 'n'],\n",
              " [(2, 0, 1), (1, 1, 1, 7), 'n'],\n",
              " [(2, 0, 2), (1, 1, 1, 7), 'n'],\n",
              " [(2, 0, 0), (1, 1, 1, 7), 'n'],\n",
              " [(2, 0, 1), (1, 1, 1, 7), 'n'],\n",
              " [(2, 0, 2), (1, 1, 1, 7), 'n']]"
            ]
          },
          "metadata": {
            "tags": []
          },
          "execution_count": 59
        }
      ]
    },
    {
      "cell_type": "code",
      "metadata": {
        "id": "pJI6AkTXw8XZ"
      },
      "source": [
        "#One step SARIMA forecast\r\n",
        "def sarima_forecast(history, config):\r\n",
        "\torder, sorder, trend = config\r\n",
        "\t# define model\r\n",
        "\tmodel = SARIMAX(history, order=order, seasonal_order=sorder, trend=trend, enforce_stationarity=False, enforce_invertibility=False)\r\n",
        "\t# fit model\r\n",
        "\tmodel_fit = model.fit(disp=False)\r\n",
        "\t# make one step forecast\r\n",
        "\tyhat = model_fit.predict(len(history), len(history))\r\n",
        "\treturn yhat[0]"
      ],
      "execution_count": 37,
      "outputs": []
    },
    {
      "cell_type": "code",
      "metadata": {
        "id": "VUI9mIsKw8QP"
      },
      "source": [
        "def measure_rmse(actual, predicted):\r\n",
        "\treturn sqrt(mean_squared_error(actual, predicted))"
      ],
      "execution_count": 38,
      "outputs": []
    },
    {
      "cell_type": "code",
      "metadata": {
        "id": "RSkrSgk_w7_p"
      },
      "source": [
        "def train_test_split(data, n_test):\r\n",
        "\treturn data[:-n_test], data[-n_test:]"
      ],
      "execution_count": 39,
      "outputs": []
    },
    {
      "cell_type": "code",
      "metadata": {
        "id": "y4bhuupU0MHB"
      },
      "source": [
        "def walk_forward_validation(data, n_test, cfg):\r\n",
        "\tpredictions = list()\r\n",
        "\t# split dataset\r\n",
        "\ttrain, test = train_test_split(data, n_test)\r\n",
        "\t# seed history with training dataset\r\n",
        "\thistory = [x for x in train]\r\n",
        "\t# step over each time-step in the test set\r\n",
        "\tfor i in range(len(test)):\r\n",
        "\t\t# fit model and make forecast for history\r\n",
        "\t\tyhat = sarima_forecast(history, cfg)\r\n",
        "\t\t# store forecast in list of predictions\r\n",
        "\t\tpredictions.append(yhat)\r\n",
        "\t\t# add actual observation to history for the next loop\r\n",
        "\t\thistory.append(test[i])\r\n",
        "\t# estimate prediction error\r\n",
        "\terror = measure_rmse(test, predictions)\r\n",
        "\treturn error"
      ],
      "execution_count": 40,
      "outputs": []
    },
    {
      "cell_type": "code",
      "metadata": {
        "id": "khtvUR7H0MBQ"
      },
      "source": [
        "# score a model, return None on failure\r\n",
        "def score_model(data, n_test, cfg, debug=False):\r\n",
        "\tresult = None\r\n",
        "\t# convert config to a key\r\n",
        "\tkey = str(cfg)\r\n",
        "\t# show all warnings and fail on exception if debugging\r\n",
        "\tif debug:\r\n",
        "\t\tresult = walk_forward_validation(data, n_test, cfg)\r\n",
        "\telse:\r\n",
        "\t\t# one failure during model validation suggests an unstable config\r\n",
        "\t\ttry:\r\n",
        "\t\t\t# never show warnings when grid searching, too noisy\r\n",
        "\t\t\twith catch_warnings():\r\n",
        "\t\t\t\tfilterwarnings(\"ignore\")\r\n",
        "\t\t\t\tresult = walk_forward_validation(data, n_test, cfg)\r\n",
        "\t\texcept:\r\n",
        "\t\t\terror = None\r\n",
        "\t# check for an interesting result\r\n",
        "\tif result is not None:\r\n",
        "\t\tprint(' > Model[%s] %.3f' % (key, result))\r\n",
        "\treturn (key, result)"
      ],
      "execution_count": 41,
      "outputs": []
    },
    {
      "cell_type": "code",
      "metadata": {
        "id": "Gj7vl5ze0LuM"
      },
      "source": [
        "# grid search configs\r\n",
        "def grid_search(data, cfg_list, n_test, parallel=True):\r\n",
        "\tscores = None\r\n",
        "\tif parallel:\r\n",
        "\t\t# execute configs in parallel\r\n",
        "\t\texecutor = Parallel(n_jobs=cpu_count(), backend='multiprocessing')\r\n",
        "\t\ttasks = (delayed(score_model)(data, n_test, cfg) for cfg in cfg_list)\r\n",
        "\t\tscores = executor(tasks)\r\n",
        "\telse:\r\n",
        "\t\tscores = [score_model(data, n_test, cfg) for cfg in cfg_list]\r\n",
        "\t# remove empty results\r\n",
        "\tscores = [r for r in scores if r[1] != None]\r\n",
        "\t# sort configs by error, asc\r\n",
        "\tscores.sort(key=lambda tup: tup[1])\r\n",
        "\treturn scores"
      ],
      "execution_count": 42,
      "outputs": []
    },
    {
      "cell_type": "code",
      "metadata": {
        "colab": {
          "base_uri": "https://localhost:8080/",
          "height": 431
        },
        "id": "PVIvfrhO3Kqn",
        "outputId": "9fe626f2-8331-446d-ade9-d0328d2d49cf"
      },
      "source": [
        "Demand"
      ],
      "execution_count": 46,
      "outputs": [
        {
          "output_type": "execute_result",
          "data": {
            "text/html": [
              "<div>\n",
              "<style scoped>\n",
              "    .dataframe tbody tr th:only-of-type {\n",
              "        vertical-align: middle;\n",
              "    }\n",
              "\n",
              "    .dataframe tbody tr th {\n",
              "        vertical-align: top;\n",
              "    }\n",
              "\n",
              "    .dataframe thead th {\n",
              "        text-align: right;\n",
              "    }\n",
              "</style>\n",
              "<table border=\"1\" class=\"dataframe\">\n",
              "  <thead>\n",
              "    <tr style=\"text-align: right;\">\n",
              "      <th></th>\n",
              "      <th>Urgent Daily Demand</th>\n",
              "      <th>CareContinuity</th>\n",
              "      <th>Weekday</th>\n",
              "      <th>Monday</th>\n",
              "      <th>Tuesday</th>\n",
              "      <th>Wednesday</th>\n",
              "      <th>Thursday</th>\n",
              "      <th>Friday</th>\n",
              "    </tr>\n",
              "    <tr>\n",
              "      <th>Booking Date</th>\n",
              "      <th></th>\n",
              "      <th></th>\n",
              "      <th></th>\n",
              "      <th></th>\n",
              "      <th></th>\n",
              "      <th></th>\n",
              "      <th></th>\n",
              "      <th></th>\n",
              "    </tr>\n",
              "  </thead>\n",
              "  <tbody>\n",
              "    <tr>\n",
              "      <th>2017-08-24</th>\n",
              "      <td>1.0</td>\n",
              "      <td>0.0</td>\n",
              "      <td>Thursday</td>\n",
              "      <td>0</td>\n",
              "      <td>0</td>\n",
              "      <td>0</td>\n",
              "      <td>1</td>\n",
              "      <td>0</td>\n",
              "    </tr>\n",
              "    <tr>\n",
              "      <th>2017-08-25</th>\n",
              "      <td>0.0</td>\n",
              "      <td>0.0</td>\n",
              "      <td>Friday</td>\n",
              "      <td>0</td>\n",
              "      <td>0</td>\n",
              "      <td>0</td>\n",
              "      <td>0</td>\n",
              "      <td>1</td>\n",
              "    </tr>\n",
              "    <tr>\n",
              "      <th>2017-08-26</th>\n",
              "      <td>0.0</td>\n",
              "      <td>0.0</td>\n",
              "      <td>Saturday</td>\n",
              "      <td>0</td>\n",
              "      <td>0</td>\n",
              "      <td>0</td>\n",
              "      <td>0</td>\n",
              "      <td>0</td>\n",
              "    </tr>\n",
              "    <tr>\n",
              "      <th>2017-08-27</th>\n",
              "      <td>0.0</td>\n",
              "      <td>0.0</td>\n",
              "      <td>Sunday</td>\n",
              "      <td>0</td>\n",
              "      <td>0</td>\n",
              "      <td>0</td>\n",
              "      <td>0</td>\n",
              "      <td>0</td>\n",
              "    </tr>\n",
              "    <tr>\n",
              "      <th>2017-08-28</th>\n",
              "      <td>0.0</td>\n",
              "      <td>0.0</td>\n",
              "      <td>Monday</td>\n",
              "      <td>1</td>\n",
              "      <td>0</td>\n",
              "      <td>0</td>\n",
              "      <td>0</td>\n",
              "      <td>0</td>\n",
              "    </tr>\n",
              "    <tr>\n",
              "      <th>...</th>\n",
              "      <td>...</td>\n",
              "      <td>...</td>\n",
              "      <td>...</td>\n",
              "      <td>...</td>\n",
              "      <td>...</td>\n",
              "      <td>...</td>\n",
              "      <td>...</td>\n",
              "      <td>...</td>\n",
              "    </tr>\n",
              "    <tr>\n",
              "      <th>2018-08-27</th>\n",
              "      <td>6.0</td>\n",
              "      <td>1.0</td>\n",
              "      <td>Monday</td>\n",
              "      <td>1</td>\n",
              "      <td>0</td>\n",
              "      <td>0</td>\n",
              "      <td>0</td>\n",
              "      <td>0</td>\n",
              "    </tr>\n",
              "    <tr>\n",
              "      <th>2018-08-28</th>\n",
              "      <td>2.0</td>\n",
              "      <td>2.0</td>\n",
              "      <td>Tuesday</td>\n",
              "      <td>0</td>\n",
              "      <td>1</td>\n",
              "      <td>0</td>\n",
              "      <td>0</td>\n",
              "      <td>0</td>\n",
              "    </tr>\n",
              "    <tr>\n",
              "      <th>2018-08-29</th>\n",
              "      <td>4.0</td>\n",
              "      <td>2.0</td>\n",
              "      <td>Wednesday</td>\n",
              "      <td>0</td>\n",
              "      <td>0</td>\n",
              "      <td>1</td>\n",
              "      <td>0</td>\n",
              "      <td>0</td>\n",
              "    </tr>\n",
              "    <tr>\n",
              "      <th>2018-08-30</th>\n",
              "      <td>1.0</td>\n",
              "      <td>0.0</td>\n",
              "      <td>Thursday</td>\n",
              "      <td>0</td>\n",
              "      <td>0</td>\n",
              "      <td>0</td>\n",
              "      <td>1</td>\n",
              "      <td>0</td>\n",
              "    </tr>\n",
              "    <tr>\n",
              "      <th>2018-08-31</th>\n",
              "      <td>2.0</td>\n",
              "      <td>0.0</td>\n",
              "      <td>Friday</td>\n",
              "      <td>0</td>\n",
              "      <td>0</td>\n",
              "      <td>0</td>\n",
              "      <td>0</td>\n",
              "      <td>1</td>\n",
              "    </tr>\n",
              "  </tbody>\n",
              "</table>\n",
              "<p>373 rows × 8 columns</p>\n",
              "</div>"
            ],
            "text/plain": [
              "              Urgent Daily Demand  CareContinuity  ... Thursday  Friday\n",
              "Booking Date                                       ...                 \n",
              "2017-08-24                    1.0             0.0  ...        1       0\n",
              "2017-08-25                    0.0             0.0  ...        0       1\n",
              "2017-08-26                    0.0             0.0  ...        0       0\n",
              "2017-08-27                    0.0             0.0  ...        0       0\n",
              "2017-08-28                    0.0             0.0  ...        0       0\n",
              "...                           ...             ...  ...      ...     ...\n",
              "2018-08-27                    6.0             1.0  ...        0       0\n",
              "2018-08-28                    2.0             2.0  ...        0       0\n",
              "2018-08-29                    4.0             2.0  ...        0       0\n",
              "2018-08-30                    1.0             0.0  ...        1       0\n",
              "2018-08-31                    2.0             0.0  ...        0       1\n",
              "\n",
              "[373 rows x 8 columns]"
            ]
          },
          "metadata": {
            "tags": []
          },
          "execution_count": 46
        }
      ]
    },
    {
      "cell_type": "code",
      "metadata": {
        "id": "qLmvfdoS1_tC"
      },
      "source": [
        "df_demand = Demand[['Urgent Daily Demand']]"
      ],
      "execution_count": 47,
      "outputs": []
    },
    {
      "cell_type": "code",
      "metadata": {
        "id": "keZ78iC_3g_w"
      },
      "source": [
        "df_demand.to_csv('df_demand.csv', header=False)"
      ],
      "execution_count": 49,
      "outputs": []
    },
    {
      "cell_type": "code",
      "metadata": {
        "id": "MYM5gJj90XcX"
      },
      "source": [
        "#load data\r\n",
        "series = pd.read_csv('df_demand.csv', header=None, index_col=0, parse_dates=True, squeeze=True)\r\n",
        "#prepare data\r\n",
        "data = series.values\r\n",
        "data = data.astype('float32')\r\n",
        "n_test = int(len(data)*0.70)"
      ],
      "execution_count": 51,
      "outputs": []
    },
    {
      "cell_type": "code",
      "metadata": {
        "colab": {
          "base_uri": "https://localhost:8080/"
        },
        "id": "-OTmFVja0XTX",
        "outputId": "ef9c648f-be04-432a-aaf9-e8ff35818ad4"
      },
      "source": [
        "# grid search\r\n",
        "scores = grid_search(data, cfg_list, n_test)"
      ],
      "execution_count": 60,
      "outputs": [
        {
          "output_type": "stream",
          "text": [
            " > Model[[(0, 0, 0), (1, 1, 1, 7), 'n']] 2.382\n",
            " > Model[[(0, 0, 1), (1, 1, 1, 7), 'n']] 2.377\n",
            " > Model[[(0, 0, 0), (1, 1, 1, 7), 'n']] 2.382\n",
            " > Model[[(0, 0, 2), (1, 1, 1, 7), 'n']] 2.373\n",
            " > Model[[(0, 0, 1), (1, 1, 1, 7), 'n']] 2.377\n",
            " > Model[[(0, 0, 2), (1, 1, 1, 7), 'n']] 2.373\n",
            " > Model[[(1, 0, 0), (1, 1, 1, 7), 'n']] 2.374\n",
            " > Model[[(1, 0, 1), (1, 1, 1, 7), 'n']] 2.388\n",
            " > Model[[(1, 0, 0), (1, 1, 1, 7), 'n']] 2.374\n",
            " > Model[[(1, 0, 2), (1, 1, 1, 7), 'n']] 2.389\n",
            " > Model[[(1, 0, 1), (1, 1, 1, 7), 'n']] 2.388\n",
            " > Model[[(2, 0, 0), (1, 1, 1, 7), 'n']] 2.372\n",
            " > Model[[(1, 0, 2), (1, 1, 1, 7), 'n']] 2.389\n",
            " > Model[[(2, 0, 1), (1, 1, 1, 7), 'n']] 2.395\n",
            " > Model[[(2, 0, 0), (1, 1, 1, 7), 'n']] 2.372\n",
            " > Model[[(2, 0, 2), (1, 1, 1, 7), 'n']] 2.393\n",
            " > Model[[(2, 0, 1), (1, 1, 1, 7), 'n']] 2.395\n",
            " > Model[[(2, 0, 2), (1, 1, 1, 7), 'n']] 2.393\n"
          ],
          "name": "stdout"
        }
      ]
    },
    {
      "cell_type": "code",
      "metadata": {
        "colab": {
          "base_uri": "https://localhost:8080/"
        },
        "id": "EuQaejsS0XOS",
        "outputId": "c4e2a1f5-111a-4d68-d243-e57066c5c04e"
      },
      "source": [
        "# list top 3 configs\r\n",
        "for cfg, error in scores[:3]:\r\n",
        "  print(cfg, error)"
      ],
      "execution_count": 61,
      "outputs": [
        {
          "output_type": "stream",
          "text": [
            "[(2, 0, 0), (1, 1, 1, 7), 'n'] 2.3716612419293313\n",
            "[(2, 0, 0), (1, 1, 1, 7), 'n'] 2.3716612419293313\n",
            "[(0, 0, 2), (1, 1, 1, 7), 'n'] 2.3730788955072337\n"
          ],
          "name": "stdout"
        }
      ]
    },
    {
      "cell_type": "code",
      "metadata": {
        "id": "an3-343mHQ6c"
      },
      "source": [
        ""
      ],
      "execution_count": null,
      "outputs": []
    },
    {
      "cell_type": "markdown",
      "metadata": {
        "id": "JG0oeBPZt4ah"
      },
      "source": [
        "Comparision"
      ]
    },
    {
      "cell_type": "markdown",
      "metadata": {
        "id": "YpQ4zqFwnF1n"
      },
      "source": [
        "# Diagnostic test for the selected model"
      ]
    },
    {
      "cell_type": "code",
      "metadata": {
        "id": "NcuvmfeNhPTG"
      },
      "source": [
        ""
      ],
      "execution_count": null,
      "outputs": []
    }
  ]
}